{
 "cells": [
  {
   "cell_type": "markdown",
   "metadata": {},
   "source": [
    "### MAGEMin in python\n",
    "This shows how to run MAGEMin/julia modules from python using juliacall\n",
    "\n",
    "\n",
    "Very similar to the examples on the [MAGEMin_C github readme](https://github.com/ComputationalThermodynamics/MAGEMin_C.jl)"
   ]
  },
  {
   "cell_type": "markdown",
   "metadata": {},
   "source": [
    "#### Import the required modules\n",
    "\n",
    "juliacall is used to import MAGEMin from julia"
   ]
  },
  {
   "cell_type": "code",
   "execution_count": null,
   "metadata": {},
   "outputs": [],
   "source": [
    "import numpy as np\n",
    "\n",
    "import juliacall\n",
    "from juliacall import Main as jl, convert as jlconvert\n",
    "\n",
    "MAGEMin_C = juliacall.newmodule(\"MAGEMin_C\")\n",
    "MAGEMin_C.seval(\"using MAGEMin_C\")\n"
   ]
  },
  {
   "cell_type": "markdown",
   "metadata": {},
   "source": [
    "#### Set up the required minimization"
   ]
  },
  {
   "cell_type": "code",
   "execution_count": null,
   "metadata": {},
   "outputs": [],
   "source": [
    "db   = \"ig\"  # database: ig, igneous (Holland et al., 2018) mp, metapelite (White et al 2014b)\n",
    "data = MAGEMin_C.Initialize_MAGEMin(db, verbose=False)\n",
    "test = 0         #KLB1\n",
    "data = MAGEMin_C.use_predefined_bulk_rock(data, test)\n",
    "P    = 8.0\n",
    "T    = 800.0\n",
    "out  = MAGEMin_C.point_wise_minimization(P,T, data)"
   ]
  },
  {
   "cell_type": "markdown",
   "metadata": {},
   "source": [
    "Can also use the MAGEMin print info function in python"
   ]
  },
  {
   "cell_type": "code",
   "execution_count": null,
   "metadata": {},
   "outputs": [],
   "source": [
    "MAGEMin_C.print_info(out)"
   ]
  },
  {
   "cell_type": "markdown",
   "metadata": {},
   "source": [
    "#### This is how to use a custom bulk rock composition for a single point minimization\n",
    "Only thing is the lists need to be converted to julia vectors with the correct datatype"
   ]
  },
  {
   "cell_type": "code",
   "execution_count": null,
   "metadata": {},
   "outputs": [],
   "source": [
    "data    = MAGEMin_C.Initialize_MAGEMin(\"ig\", verbose=False)\n",
    "P,T     = 12.0, 1000.0\n",
    "Xoxides = jlconvert(jl.Vector[jl.String], [\"SiO2\", \"Al2O3\", \"CaO\", \"MgO\", \"FeO\", \"Fe2O3\", \"K2O\", \"Na2O\", \"TiO2\", \"Cr2O3\", \"H2O\"])\n",
    "X       = jlconvert(jl.Vector[jl.Float64], [48.43, 15.19, 11.57, 10.13, 6.65, 1.64, 0.59, 1.87, 0.68, 0.0, 3.0])\n",
    "sys_in  = \"wt\""
   ]
  },
  {
   "cell_type": "code",
   "execution_count": null,
   "metadata": {},
   "outputs": [],
   "source": [
    "out     = MAGEMin_C.single_point_minimization(P, T, data, X=X, Xoxides=Xoxides, sys_in=sys_in)"
   ]
  },
  {
   "cell_type": "code",
   "execution_count": null,
   "metadata": {},
   "outputs": [],
   "source": [
    "out.ph, out.ph_frac"
   ]
  },
  {
   "cell_type": "markdown",
   "metadata": {},
   "source": [
    "#### This is how to use a custom bulk rock composition for a multi point minimization"
   ]
  },
  {
   "cell_type": "code",
   "execution_count": null,
   "metadata": {},
   "outputs": [],
   "source": [
    "P = jlconvert(jl.Vector[jl.Float64], [3., 4., 5., 6., 7.])\n",
    "T = jlconvert(jl.Vector[jl.Float64], [300., 400., 500., 600., 700.])\n",
    "Xoxides = jlconvert(jl.Vector[jl.String], [\"SiO2\", \"Al2O3\", \"CaO\", \"MgO\", \"FeO\", \"Fe2O3\", \"K2O\", \"Na2O\", \"TiO2\", \"Cr2O3\", \"H2O\"])\n",
    "X       = jlconvert(jl.Vector[jl.Float64], [48.43, 15.19, 11.57, 10.13, 6.65, 1.64, 0.59, 1.87, 0.68, 0.0, 3.0])\n",
    "sys_in  = \"wt\"\n",
    "\n",
    "out     = MAGEMin_C.multi_point_minimization(P, T, data, X=X, Xoxides=Xoxides, sys_in=sys_in)"
   ]
  },
  {
   "cell_type": "code",
   "execution_count": null,
   "metadata": {},
   "outputs": [],
   "source": []
  }
 ],
 "metadata": {
  "kernelspec": {
   "display_name": "UW",
   "language": "python",
   "name": "python3"
  },
  "language_info": {
   "codemirror_mode": {
    "name": "ipython",
    "version": 3
   },
   "file_extension": ".py",
   "mimetype": "text/x-python",
   "name": "python",
   "nbconvert_exporter": "python",
   "pygments_lexer": "ipython3",
   "version": "3.10.14"
  }
 },
 "nbformat": 4,
 "nbformat_minor": 4
}
