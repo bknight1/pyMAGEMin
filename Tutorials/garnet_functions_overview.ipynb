{
 "cells": [
  {
   "cell_type": "markdown",
   "metadata": {},
   "source": [
    "### How to extract garnet data\n",
    "Multiple functions have been written to extract garnet information over a PT path"
   ]
  },
  {
   "cell_type": "code",
   "execution_count": null,
   "metadata": {},
   "outputs": [],
   "source": [
    "from pyMAGEMin.functions import MAGEMin_functions\n",
    "import juliacall\n",
    "import matplotlib.pyplot as plt"
   ]
  },
  {
   "cell_type": "code",
   "execution_count": null,
   "metadata": {},
   "outputs": [],
   "source": [
    "MAGEMin_C = juliacall.newmodule(\"MAGEMin\")\n",
    "MAGEMin_C.seval(\"using MAGEMin_C\")"
   ]
  },
  {
   "cell_type": "markdown",
   "metadata": {},
   "source": [
    "#### Set up the custom bulk rock composition and MAGEMin database"
   ]
  },
  {
   "cell_type": "code",
   "execution_count": null,
   "metadata": {},
   "outputs": [],
   "source": [
    "### Average Pelite, Shaw 1954 / Symmes & Ferry 1991 in wt%\n",
    "Xoxides = [\"SiO2\", \"Al2O3\", \"FeO\", \"MgO\", \"MnO\", \"CaO\", \"Na2O\", \"K2O\", \"H2O\"]\n",
    "X = [59.77, 16.57, 5.88, 2.62, 0.07, 2.17, 1.73, 3.53, 7.666] ### in wt % \n",
    "\n",
    "db      =   \"mp\" # database: ig, igneous (Holland et al., 2018), mp, metapelite (White et al 2014b), mb, Metabasite (Green et al., 2016)\n",
    "\n",
    "\n",
    "data = MAGEMin_C.Initialize_MAGEMin(db, verbose=0)\n"
   ]
  },
  {
   "cell_type": "markdown",
   "metadata": {},
   "source": [
    "### How to do a single point calculation for garnet (gt) end members"
   ]
  },
  {
   "cell_type": "code",
   "execution_count": null,
   "metadata": {},
   "outputs": [],
   "source": [
    "MAGEMin_functions.MAGEMinGarnetCalculator.gt_single_point_calc_endmembers"
   ]
  },
  {
   "cell_type": "code",
   "execution_count": null,
   "metadata": {},
   "outputs": [],
   "source": [
    "garnet_calculator = MAGEMin_functions.MAGEMinGarnetCalculator()\n",
    "gt_frac, gt_wt, gt_vol, py, alm, spss, gr, kho, out = garnet_calculator.gt_single_point_calc_endmembers(P=10., T=1000., data=data, X=X, Xoxides=Xoxides, sys_in=\"wt\")"
   ]
  },
  {
   "cell_type": "markdown",
   "metadata": {},
   "source": [
    "### How to do a single point calculation for garnet (gt) element fractions"
   ]
  },
  {
   "cell_type": "code",
   "execution_count": null,
   "metadata": {},
   "outputs": [],
   "source": [
    "gt_frac, gt_wt, gt_vol, Mg, Mn, Fe, Ca, out = garnet_calculator.gt_single_point_calc_elements(P=10., T=1000., data=data, X=X, Xoxides=Xoxides, sys_in=\"wt\")"
   ]
  },
  {
   "cell_type": "markdown",
   "metadata": {},
   "source": [
    "### How to do a multi point calculation for garnet (gt) element fractions without fractionation"
   ]
  },
  {
   "cell_type": "code",
   "execution_count": null,
   "metadata": {},
   "outputs": [],
   "source": [
    "P = [5., 6., 7., 8., 9., 10.]\n",
    "T = [500., 600., 700., 800., 900., 1000.]"
   ]
  },
  {
   "cell_type": "code",
   "execution_count": null,
   "metadata": {},
   "outputs": [],
   "source": [
    "gt_mol_frac_nf, gt_wt_frac_nf, gt_vol_frac_nf, d_gt_mol_frac_nf, d_gt_wt_frac, Mgi_nf, Mni_nf, Fei_nf, Cai_nf,  = garnet_calculator.gt_over_path(P, T, data, X, Xoxides, 'wt', fractionate=False)"
   ]
  },
  {
   "cell_type": "markdown",
   "metadata": {},
   "source": [
    "### How to do a multi point calculation for garnet (gt) element fractions with fractionation\n",
    "The bulk rock composition is recalculated by removing the garnet composition from the initial bulk rock. This is calculated at each PT point"
   ]
  },
  {
   "cell_type": "code",
   "execution_count": null,
   "metadata": {},
   "outputs": [],
   "source": [
    "gt_mol_frac, gt_wt_frac, gt_vol_frac, d_gt_mol_frac, d_gt_wt_frac, Mgi, Mni, Fei, Cai,  = garnet_calculator.gt_over_path(P, T, data, X, Xoxides, 'wt', fractionate=True)"
   ]
  },
  {
   "cell_type": "markdown",
   "metadata": {},
   "source": [
    "### Compare the results"
   ]
  },
  {
   "cell_type": "code",
   "execution_count": null,
   "metadata": {},
   "outputs": [],
   "source": [
    "plt.plot(T, gt_vol_frac_nf)\n",
    "plt.plot(T, gt_vol_frac, ls=':')"
   ]
  },
  {
   "cell_type": "code",
   "execution_count": null,
   "metadata": {},
   "outputs": [],
   "source": [
    "plt.plot(T, gt_vol_frac_nf, c='k', label='gt vol frac')\n",
    "plt.plot(T, gt_vol_frac, ls=':', c='k')\n",
    "\n",
    "plt.plot(T, Mgi_nf, c='orange', label='Mg')\n",
    "plt.plot(T, Mni_nf, c='b', label='Mn')\n",
    "plt.plot(T, Cai_nf, c='g', label='Ca')\n",
    "plt.plot(T, Fei_nf, c='r', label='Fe')\n",
    "\n",
    "\n",
    "plt.plot(T, Mgi, ls=':', c='orange')\n",
    "plt.plot(T, Mni, ls=':', c='b')\n",
    "plt.plot(T, Cai, ls=':', c='g')\n",
    "plt.plot(T, Fei, ls=':', c='r')\n",
    "\n",
    "plt.legend()"
   ]
  },
  {
   "cell_type": "markdown",
   "metadata": {},
   "source": [
    "We can add more points to see what the fracionation looks like"
   ]
  },
  {
   "cell_type": "code",
   "execution_count": null,
   "metadata": {},
   "outputs": [],
   "source": [
    "from pyMAGEMin.functions.utils import create_PTt_path\n",
    "\n",
    "P = [5., 6., 7., 8., 9., 10.] ### in kbar \n",
    "T = [500., 600., 700., 800., 900., 1000.] ### in C\n",
    "t = [1., 2., 3., 4., 5., 6.] ### in Myr\n",
    "\n",
    "npoints = 51\n",
    "\n",
    "### 64 Myr in total, similar to fig 4\n",
    "PTt_data = create_PTt_path(P, T, t, npoints)"
   ]
  },
  {
   "cell_type": "code",
   "execution_count": null,
   "metadata": {},
   "outputs": [],
   "source": [
    "P_new = PTt_data[:,0]\n",
    "T_new = PTt_data[:,1]"
   ]
  },
  {
   "cell_type": "code",
   "execution_count": null,
   "metadata": {},
   "outputs": [],
   "source": [
    "gt_mol_frac_nf, gt_wt_frac_nf, gt_vol_frac_nf, d_gt_mol_frac_nf, d_gt_wt_frac, Mgi_nf, Mni_nf, Fei_nf, Cai_nf,  = garnet_calculator.gt_over_path(P_new, T_new, data, X, Xoxides, 'wt', fractionate=False)"
   ]
  },
  {
   "cell_type": "code",
   "execution_count": null,
   "metadata": {},
   "outputs": [],
   "source": [
    "gt_mol_frac, gt_wt_frac, gt_vol_frac, d_gt_mol_frac, d_gt_wt_frac, Mgi, Mni, Fei, Cai,  = garnet_calculator.gt_over_path(P_new, T_new, data, X, Xoxides, 'wt', fractionate=True)"
   ]
  },
  {
   "cell_type": "code",
   "execution_count": null,
   "metadata": {},
   "outputs": [],
   "source": [
    "plt.plot(T_new, gt_vol_frac_nf, c='k', label='gt vol frac')\n",
    "plt.plot(T_new, gt_vol_frac, ls=':', c='k')\n",
    "\n",
    "plt.plot(T_new, Mgi_nf, c='orange', label='Mg')\n",
    "plt.plot(T_new, Mni_nf, c='b', label='Mn')\n",
    "plt.plot(T_new, Cai_nf, c='g', label='Ca')\n",
    "plt.plot(T_new, Fei_nf, c='r', label='Fe')\n",
    "\n",
    "\n",
    "plt.plot(T_new, Mgi, ls=':', c='orange')\n",
    "plt.plot(T_new, Mni, ls=':', c='b')\n",
    "plt.plot(T_new, Cai, ls=':', c='g')\n",
    "plt.plot(T_new, Fei, ls=':', c='r')\n",
    "\n",
    "plt.legend()"
   ]
  },
  {
   "cell_type": "code",
   "execution_count": null,
   "metadata": {},
   "outputs": [],
   "source": []
  }
 ],
 "metadata": {
  "kernelspec": {
   "display_name": "UW",
   "language": "python",
   "name": "python3"
  },
  "language_info": {
   "codemirror_mode": {
    "name": "ipython",
    "version": 3
   },
   "file_extension": ".py",
   "mimetype": "text/x-python",
   "name": "python",
   "nbconvert_exporter": "python",
   "pygments_lexer": "ipython3",
   "version": "3.10.14"
  }
 },
 "nbformat": 4,
 "nbformat_minor": 2
}
