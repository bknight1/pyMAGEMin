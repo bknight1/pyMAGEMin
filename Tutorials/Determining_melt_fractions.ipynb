{
 "cells": [
  {
   "cell_type": "markdown",
   "id": "0bc2c8f1-020a-474e-8485-25f51aee753b",
   "metadata": {},
   "source": [
    "### import MAGEMin from julia using juliacall"
   ]
  },
  {
   "cell_type": "code",
   "execution_count": null,
   "id": "5255f9bc-213c-4b8b-9085-a0c946759dcb",
   "metadata": {},
   "outputs": [],
   "source": [
    "import juliacall\n",
    "import numpy as np\n",
    "\n",
    "MAGEMin_C = juliacall.newmodule(\"MAGEMin_C\")\n",
    "MAGEMin_C.seval(\"using MAGEMin_C\")\n",
    "\n",
    "from juliacall import Main as jl, convert as jlconvert"
   ]
  },
  {
   "cell_type": "code",
   "execution_count": 2,
   "id": "f11d6924",
   "metadata": {},
   "outputs": [],
   "source": [
    "import pyMAGEMin"
   ]
  },
  {
   "cell_type": "code",
   "execution_count": 3,
   "id": "5b60ffc0-45e1-4395-9ebd-764de6e4cdae",
   "metadata": {},
   "outputs": [],
   "source": [
    "### Find the solidus and liquidus when P = 8 kbar"
   ]
  },
  {
   "cell_type": "code",
   "execution_count": 4,
   "id": "e30e27ab-9923-44cf-9d5b-00f406a5cb26",
   "metadata": {},
   "outputs": [],
   "source": [
    "db   = \"ig\"  # database: ig, igneous (Holland et al., 2018) mp, metapelite (White et al 2014b)\n",
    "data = MAGEMin_C.Initialize_MAGEMin(db, verbose=False)\n",
    "test = 0         #KLB1\n",
    "data = MAGEMin_C.use_predefined_bulk_rock(data, test)\n",
    "P    = 8.0\n",
    "# out  = MAGEMin_C.point_wise_minimization(P,T, data)"
   ]
  },
  {
   "cell_type": "markdown",
   "id": "b32832da-eb2d-4138-8ff8-ea3fd5edc707",
   "metadata": {},
   "source": [
    "#### Determine the liquid fraction of bulk rock to get solidus and liquidus\n"
   ]
  },
  {
   "cell_type": "code",
   "execution_count": 5,
   "id": "c56ce1a2-4b11-4894-a9fd-6475a7554d9c",
   "metadata": {
    "scrolled": true
   },
   "outputs": [],
   "source": [
    "liq_frac_vals = []\n",
    "temp = np.linspace(1000, 2000, 1001)\n",
    "for T in temp:\n",
    "    out = MAGEMin_C.single_point_minimization(P, T, data)\n",
    "    liq_frac = pyMAGEMin.MAGEMin_functions.phase_frac(phase=\"liq\", MAGEMinOutput=out, sys_in='mol')\n",
    "    liq_frac_vals.append( liq_frac )"
   ]
  },
  {
   "cell_type": "code",
   "execution_count": 6,
   "id": "38da25a7",
   "metadata": {},
   "outputs": [],
   "source": [
    "### find where liquidus first becomes 1 (liquidus)\n",
    "liquidus_T = temp[np.where(np.array(liq_frac_vals) == 1.0)[0][0]]\n",
    "### find where liquidus is 0 for last time (solidus)\n",
    "solidus_T  = temp[np.where(np.array(liq_frac_vals) == 0.0)[0][-1]]"
   ]
  },
  {
   "cell_type": "code",
   "execution_count": null,
   "id": "8aeec9a5-9100-4c18-a89b-3b150facd9a6",
   "metadata": {},
   "outputs": [],
   "source": [
    "import matplotlib.pyplot as plt\n",
    "\n",
    "\n",
    "plt.plot(temp,  liq_frac_vals , c='k', ls=':')\n",
    "plt.scatter(liquidus_T, 1, marker='x', c='red')\n",
    "plt.scatter(solidus_T, 0, marker='x', c='green')"
   ]
  },
  {
   "cell_type": "code",
   "execution_count": null,
   "id": "dffe27f5-a380-4480-8f07-38d8335e8161",
   "metadata": {},
   "outputs": [],
   "source": [
    "print(f'solidus = {solidus_T}°C, liquidus = {liquidus_T}°C')"
   ]
  },
  {
   "cell_type": "markdown",
   "id": "1abbfbf3",
   "metadata": {},
   "source": [
    "### Find solidus and liquidus to nearest degree"
   ]
  },
  {
   "cell_type": "code",
   "execution_count": null,
   "id": "5d877876",
   "metadata": {},
   "outputs": [],
   "source": [
    "initial_T = 1200.\n",
    "solidus_T = float( initial_T )\n",
    "out = MAGEMin_C.single_point_minimization(P, liquidus_T, data)\n",
    "liq_frac = pyMAGEMin.MAGEMin_functions.phase_frac(phase=\"liq\", MAGEMinOutput=out, sys_in='mol')\n",
    "\n",
    "while liq_frac > 0:\n",
    "    solidus_T -= 1.\n",
    "    out = MAGEMin_C.single_point_minimization(P, solidus_T, data)\n",
    "    liq_frac = pyMAGEMin.MAGEMin_functions.phase_frac(phase=\"liq\", MAGEMinOutput=out, sys_in='mol')\n",
    "    print(liq_frac, solidus_T)"
   ]
  },
  {
   "cell_type": "code",
   "execution_count": null,
   "id": "24bc0213",
   "metadata": {},
   "outputs": [],
   "source": [
    "initial_T = 1800.\n",
    "liquidus_T = float( initial_T )\n",
    "out = MAGEMin_C.single_point_minimization(P, liquidus_T, data)\n",
    "liq_frac = pyMAGEMin.MAGEMin_functions.phase_frac(phase=\"liq\", MAGEMinOutput=out, sys_in='mol')\n",
    "\n",
    "while liq_frac < 1:\n",
    "    liquidus_T += 1.\n",
    "    out = MAGEMin_C.single_point_minimization(P, liquidus_T, data)\n",
    "    liq_frac = pyMAGEMin.MAGEMin_functions.phase_frac(phase=\"liq\", MAGEMinOutput=out, sys_in='mol')\n",
    "    print(liq_frac, liquidus_T)"
   ]
  },
  {
   "cell_type": "code",
   "execution_count": null,
   "id": "9d74f6b8",
   "metadata": {},
   "outputs": [],
   "source": [
    "print(f'solidus = {solidus_T}°C, liquidus = {liquidus_T}°C')"
   ]
  },
  {
   "cell_type": "markdown",
   "id": "ab555efe",
   "metadata": {},
   "source": [
    "### These have been wrapped into functions within the package"
   ]
  },
  {
   "cell_type": "code",
   "execution_count": null,
   "id": "a7e2905e",
   "metadata": {},
   "outputs": [],
   "source": [
    "initial_solidus_T = 1200.0  \n",
    "initial_liquidus_T = 1800.0 \n",
    "\n",
    "solidus_T = pyMAGEMin.MAGEMin_functions.find_solidus(P, initial_solidus_T, data, precision=1.0)\n",
    "print(f\"Determined Solidus Temperature: {solidus_T:.2f} °C\")\n",
    "\n",
    "liquidus_T = pyMAGEMin.MAGEMin_functions.find_liquidus(P, initial_liquidus_T, data, precision=1.0)\n",
    "print(f\"Determined Liquidus Temperature: {liquidus_T:.2f} °C\")"
   ]
  },
  {
   "cell_type": "code",
   "execution_count": null,
   "id": "26e58882",
   "metadata": {},
   "outputs": [],
   "source": [
    "print(f'solidus = {solidus_T}°C, liquidus = {liquidus_T}°C')"
   ]
  },
  {
   "cell_type": "code",
   "execution_count": null,
   "id": "a061455c",
   "metadata": {},
   "outputs": [],
   "source": []
  }
 ],
 "metadata": {
  "kernelspec": {
   "display_name": "UW",
   "language": "python",
   "name": "python3"
  },
  "language_info": {
   "codemirror_mode": {
    "name": "ipython",
    "version": 3
   },
   "file_extension": ".py",
   "mimetype": "text/x-python",
   "name": "python",
   "nbconvert_exporter": "python",
   "pygments_lexer": "ipython3",
   "version": "3.10.14"
  }
 },
 "nbformat": 4,
 "nbformat_minor": 5
}
